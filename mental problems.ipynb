{
 "cells": [
  {
   "cell_type": "code",
   "execution_count": 1,
   "metadata": {},
   "outputs": [],
   "source": [
    "from ipywidgets import *\n",
    "from IPython.display import display, clear_output\n",
    "from itertools import chain, repeat\n",
    "output = widgets.Output()\n",
    "#from termcolor import colored"
   ]
  },
  {
   "cell_type": "code",
   "execution_count": 60,
   "metadata": {},
   "outputs": [],
   "source": [
    "layout = widgets.Layout(width='300px', height='40px')\n",
    "\n",
    "run_button = widgets.Button(\n",
    "    description = 'Submit',\n",
    "    layout=Layout(width='580px',height='60px',Flexbox='align_items'),\n",
    "    icon='check' \n",
    ")\n",
    "\n",
    "gender = widgets.ToggleButtons(\n",
    "    options=['Male','Female'],\n",
    "    description='Gender:',\n",
    "    disabled=False,\n",
    "    value=None,\n",
    "    layout=Layout(width='auto',align_items='center'),\n",
    "    #style={\"button_width\":\"70px\"},\n",
    "    button_style=''\n",
    ")\n",
    "\n",
    "mental_psychiatric_issues = widgets.ToggleButton(\n",
    "    value=False,\n",
    "    description='Mental/Psychiatric Issues',\n",
    "    disabled=False,\n",
    "    tooltip='Description',\n",
    "    layout=layout,\n",
    "    icon='table'\n",
    ")\n",
    "\n",
    "depression = widgets.ToggleButton(\n",
    "    value=False,\n",
    "    description='Depression',\n",
    "    disabled=False,\n",
    "    tooltip='Description',\n",
    "    layout=layout,\n",
    "    icon='table'\n",
    ")\n",
    "\n",
    "anxiety = widgets.ToggleButton(\n",
    "    value=False,\n",
    "    description='Anxiety',\n",
    "    disabled=False,\n",
    "    tooltip='Description',\n",
    "    layout=layout,\n",
    "    icon='table'\n",
    ")\n",
    "\n",
    "bipolar = widgets.ToggleButton(\n",
    "    value=False,\n",
    "    description='Bipolar',\n",
    "    disabled=False,\n",
    "    tooltip='Description',\n",
    "    layout=layout,\n",
    "    icon='table'\n",
    ")\n",
    "\n",
    "ptsd = widgets.ToggleButton(\n",
    "    value=False,\n",
    "    description='PTSD',\n",
    "    disabled=False,\n",
    "    tooltip='Description',\n",
    "    layout=layout,\n",
    "    icon='table'\n",
    ")\n",
    "\n",
    "problem_text = widgets.Text(\n",
    "    placeholder='Problem',\n",
    "    description='Other (Comma separate):',\n",
    "    style={\"description_width\":\"initial\"},\n",
    "    layout = Layout(width='40%')\n",
    ")\n",
    "\n",
    "starting_in_thousands = widgets.ToggleButtons(\n",
    "    options=['1900','2000'],\n",
    "    description='Starting In:',\n",
    "    disabled=False,\n",
    "    value=None,\n",
    "    layout=Layout(width='65%',align_items='center'), \n",
    "    button_style=''\n",
    ")\n",
    "\n",
    "starting_in_hundreds = widgets.ToggleButtons(\n",
    "    options=['0','10','20','30','40','50','60','70','80','90'],\n",
    "    description='',\n",
    "    disabled=False,\n",
    "    value=None,\n",
    "    layout=Layout(width='auto',align_items='center'),\n",
    "    style={\"button_width\":\"70px\"},\n",
    "    button_style=''\n",
    ")\n",
    "\n",
    "starting_in_tens = widgets.ToggleButtons(\n",
    "    options=['0','1','2','3','4','5','6','7','8','9'],\n",
    "    description='',\n",
    "    disabled=False,\n",
    "    value=None,\n",
    "    layout=Layout(width='auto',align_items='center'),\n",
    "    style={\"button_width\":\"70px\"},\n",
    "    button_style=''\n",
    ")\n",
    "\n",
    "secondary_to_trauma = widgets.ToggleButton(\n",
    "    value=False,\n",
    "    description='Trauma',\n",
    "    disabled=False,\n",
    "    tooltip='Description',\n",
    "    layout=layout,\n",
    "    icon='table'\n",
    ")\n",
    "\n",
    "secondary_to_injury = widgets.ToggleButton(\n",
    "    value=False,\n",
    "    description='Injury',\n",
    "    disabled=False,\n",
    "    tooltip='Description',\n",
    "    layout=layout,\n",
    "    icon='table'\n",
    ")\n",
    "\n",
    "secondary_to_text = widgets.Text(\n",
    "    placeholder='Reason',\n",
    "    description='Other (Brief Description):',\n",
    "    style={\"description_width\":\"initial\"},\n",
    "    layout = Layout(width='40%')\n",
    ")\n",
    "\n",
    "difficulty_sleeping = widgets.ToggleButton(\n",
    "    value=False,\n",
    "    description='Difficulty Sleeping',\n",
    "    disabled=False,\n",
    "    tooltip='Description',\n",
    "    layout=layout,\n",
    "    icon='table'\n",
    ")\n",
    "\n",
    "crying_spells = widgets.ToggleButton(\n",
    "    value=False,\n",
    "    description='Crying Spells',\n",
    "    disabled=False,\n",
    "    tooltip='Description',\n",
    "    layout=layout,\n",
    "    icon='table'\n",
    ")\n",
    "\n",
    "changes_to_appetite = widgets.ToggleButton(\n",
    "    value=False,\n",
    "    description='Changes to Appetite',\n",
    "    disabled=False,\n",
    "    tooltip='Description',\n",
    "    layout=layout,\n",
    "    icon='table'\n",
    ")\n",
    "\n",
    "fatigue = widgets.ToggleButton(\n",
    "    value=False,\n",
    "    description='Fatigue',\n",
    "    disabled=False,\n",
    "    tooltip='Description',\n",
    "    layout=layout,\n",
    "    icon='table'\n",
    ")\n",
    "\n",
    "mood_swings = widgets.ToggleButton(\n",
    "    value=False,\n",
    "    description='Mood Swings',\n",
    "    disabled=False,\n",
    "    tooltip='Description',\n",
    "    layout=layout,\n",
    "    icon='table'\n",
    ")\n",
    "\n",
    "lack_of_motivation = widgets.ToggleButton(\n",
    "    value=False,\n",
    "    description='Lack of Motivation',\n",
    "    disabled=False,\n",
    "    tooltip='Description',\n",
    "    layout=layout,\n",
    "    icon='table'\n",
    ")\n",
    "\n",
    "difficulty_concentrating = widgets.ToggleButton(\n",
    "    value=False,\n",
    "    description='Difficulty Concentrating',\n",
    "    disabled=False,\n",
    "    tooltip='Description',\n",
    "    layout=layout,\n",
    "    icon='table'\n",
    ")\n",
    "\n",
    "social_anxiety= widgets.ToggleButton(\n",
    "    value=False,\n",
    "    description='Social Anxiety',\n",
    "    disabled=False,\n",
    "    tooltip='Description',\n",
    "    layout=layout,\n",
    "    icon='table'\n",
    ")\n",
    "\n",
    "hallucinations = widgets.ToggleButton(\n",
    "    value=False,\n",
    "    description='Hallucinations',\n",
    "    disabled=False,\n",
    "    tooltip='Description',\n",
    "    layout=layout,\n",
    "    icon='table'\n",
    ")\n",
    "\n",
    "\n",
    "panic_attacks = widgets.ToggleButton(\n",
    "    value=False,\n",
    "    description='Panic Attacks',\n",
    "    disabled=False,\n",
    "    tooltip='Description',\n",
    "    layout=layout,\n",
    "    icon='table'\n",
    ")\n",
    "\n",
    "\n",
    "symptoms_text = widgets.Text(\n",
    "    placeholder='Symptoms',\n",
    "    description='Other (Comma separate):',\n",
    "    style={\"description_width\":\"initial\"},\n",
    "    layout = Layout(width='40%')\n",
    ")\n",
    "\n",
    "\n",
    "\n",
    "\n",
    "\n",
    "\n",
    "\n",
    "\n",
    "\n",
    "\n",
    "suicidal_thoughts = widgets.ToggleButtons(\n",
    "    options=['Yes','No'],\n",
    "    description='Suicidal Thoughts:',\n",
    "    disabled=False,\n",
    "    value=None,\n",
    "    layout=Layout(width='auto',align_items='center'),\n",
    "    style={\"description_width\":\"initial\"},\n",
    "    button_style=''\n",
    ")\n",
    "\n",
    "suicidal_thoughts_acted = widgets.ToggleButtons(\n",
    "    options=['Yes','No'],\n",
    "    description='Acted Upon Them:',\n",
    "    disabled=False,\n",
    "    value=None,\n",
    "    layout=Layout(width='auto',align_items='center'),\n",
    "    style={\"description_width\":\"initial\"},\n",
    "    button_style=''\n",
    ")\n",
    "\n",
    "manic_episodes = widgets.ToggleButtons(\n",
    "    options=['Yes','No'],\n",
    "    description='Manic Episodes:',\n",
    "    disabled=False,\n",
    "    value=None,\n",
    "    layout=Layout(width='auto',align_items='center'),\n",
    "    style={\"description_width\":\"initial\"},\n",
    "    button_style=''\n",
    ")\n",
    "\n",
    "manic_episodes_freq = widgets.ToggleButtons(\n",
    "    options=['daily','weekly','monthly','frequent','infrequent'],\n",
    "    description='Frequency:',\n",
    "    disabled=False,\n",
    "    value=None,\n",
    "    layout=Layout(width='auto',align_items='center'),\n",
    "    #style={\"button_width\":\"70px\"},\n",
    "    button_style=''\n",
    ") \n",
    "\n",
    "manic_episodes_freq_text = widgets.Text(\n",
    "    placeholder='Freq',\n",
    "    description='Other:',\n",
    "    layout = Layout(width='40%')\n",
    ")\n",
    "\n",
    "medication = widgets.ToggleButtons(\n",
    "    options=['Yes','No'],\n",
    "    description='Medication:',\n",
    "    disabled=False,\n",
    "    value=None,\n",
    "    layout=Layout(width='auto',align_items='center'),\n",
    "    style={\"description_width\":\"initial\"},\n",
    "    button_style=''\n",
    ")\n",
    "\n",
    "psychiatric_counseling = widgets.ToggleButtons(\n",
    "    options=['Yes','No'],\n",
    "    description='Psychiatric Counseling:',\n",
    "    disabled=False,\n",
    "    value=None,\n",
    "    layout=Layout(width='auto',align_items='center'),\n",
    "    style={\"description_width\":\"initial\"},\n",
    "    button_style=''\n",
    ")\n",
    "\n",
    "psychiatric_counseling_currently = widgets.ToggleButtons(\n",
    "    options=['Yes','No'],\n",
    "    description='Currently:',\n",
    "    disabled=False,\n",
    "    value=None,\n",
    "    layout=Layout(width='auto',align_items='center'),\n",
    "    style={\"description_width\":\"initial\"},\n",
    "    button_style=''\n",
    ")\n",
    "\n",
    "difficulty_sleeping_limitation = widgets.ToggleButton(\n",
    "    value=False,\n",
    "    description='Difficulty Sleeping',\n",
    "    disabled=False,\n",
    "    tooltip='Description',\n",
    "    layout=layout,\n",
    "    icon='table'\n",
    ")\n",
    "\n",
    "crying_spells_limitation = widgets.ToggleButton(\n",
    "    value=False,\n",
    "    description='Crying Spells',\n",
    "    disabled=False,\n",
    "    tooltip='Description',\n",
    "    layout=layout,\n",
    "    icon='table'\n",
    ")\n",
    "\n",
    "changes_to_appetite_limitation = widgets.ToggleButton(\n",
    "    value=False,\n",
    "    description='Changes to Appetite',\n",
    "    disabled=False,\n",
    "    tooltip='Description',\n",
    "    layout=layout,\n",
    "    icon='table'\n",
    ")\n",
    "\n",
    "fatigue_limitation = widgets.ToggleButton(\n",
    "    value=False,\n",
    "    description='Fatigue',\n",
    "    disabled=False,\n",
    "    tooltip='Description',\n",
    "    layout=layout,\n",
    "    icon='table'\n",
    ")\n",
    "\n",
    "mood_swings_limitation = widgets.ToggleButton(\n",
    "    value=False,\n",
    "    description='Mood Swings',\n",
    "    disabled=False,\n",
    "    tooltip='Description',\n",
    "    layout=layout,\n",
    "    icon='table'\n",
    ")\n",
    "\n",
    "lack_of_motivation_limitation = widgets.ToggleButton(\n",
    "    value=False,\n",
    "    description='Lack of Motivation',\n",
    "    disabled=False,\n",
    "    tooltip='Description',\n",
    "    layout=layout,\n",
    "    icon='table'\n",
    ")\n",
    "\n",
    "difficulty_concentrating_limitation = widgets.ToggleButton(\n",
    "    value=False,\n",
    "    description='Difficulty Concentrating',\n",
    "    disabled=False,\n",
    "    tooltip='Description',\n",
    "    layout=layout,\n",
    "    icon='table'\n",
    ")\n",
    "\n",
    "social_anxiety_limitation = widgets.ToggleButton(\n",
    "    value=False,\n",
    "    description='Social Anxiety',\n",
    "    disabled=False,\n",
    "    tooltip='Description',\n",
    "    layout=layout,\n",
    "    icon='table'\n",
    ")\n",
    "\n",
    "hallucinations_limitation = widgets.ToggleButton(\n",
    "    value=False,\n",
    "    description='Hallucinations',\n",
    "    disabled=False,\n",
    "    tooltip='Description',\n",
    "    layout=layout,\n",
    "    icon='table'\n",
    ")\n",
    "\n",
    "panic_attacks_limitation = widgets.ToggleButton(\n",
    "    value=False,\n",
    "    description='Panic Attacks',\n",
    "    disabled=False,\n",
    "    tooltip='Description',\n",
    "    layout=layout,\n",
    "    icon='table'\n",
    ")\n",
    "\n",
    "limitations_text = widgets.Text(\n",
    "    placeholder='Problem',\n",
    "    description='Other (Comma separate):',\n",
    "    style={\"description_width\":\"initial\"},\n",
    "    layout = Layout(width='40%')\n",
    ")"
   ]
  },
  {
   "cell_type": "code",
   "execution_count": 61,
   "metadata": {},
   "outputs": [],
   "source": [
    "#Mental/Psychiatric Issues\n",
    "def finish(b):\n",
    "    if gender.value == 'Male':\n",
    "        gender1lower='he'\n",
    "        gender1upper='He'\n",
    "        gender2lower='his'\n",
    "        gender2upper='His'\n",
    "    elif gender.value == 'Female':\n",
    "        gender1lower='she'\n",
    "        gender1upper='She'\n",
    "        gender2lower='her'\n",
    "        gender2upper='Her'\n",
    "        \n",
    "        \n",
    "################################################################################################          \n",
    "    final_str = 'The claimant reports a history of '\n",
    "    \n",
    "    #Problems\n",
    "    problem_list = []\n",
    "\n",
    "    if depression.value == True:\n",
    "        problem_list.append('depression')\n",
    "    if anxiety.value == True:\n",
    "        problem_list.append('anxiety')\n",
    "    if bipolar.value == True:\n",
    "        problem_list.append('bipolar disorder')\n",
    "    if ptsd.value == True:\n",
    "        problem_list.append('PTSD')\n",
    "    if mental_psychiatric_issues.value == True:\n",
    "        problem_list.append('mental/psychiatric issues')\n",
    "        \n",
    "        \n",
    "    #Problem text field\n",
    "    if problem_text.value != '':\n",
    "        problem_text_list = problem_text.value.split(',')\n",
    "        problem_text_list = [x.strip(' ') for x in problem_text_list]\n",
    "        \n",
    "        problem_list = problem_list + problem_text_list\n",
    "        \n",
    "        \n",
    "    #Build Problem string\n",
    "    problem_str = ''\n",
    "    problem_list_len = len(problem_list)\n",
    "    \n",
    "    if problem_list_len == 1:\n",
    "        problem_str += problem_list[0] #+ '.'\n",
    "    elif problem_list_len == 2:\n",
    "        problem_str += problem_list[0] + ' and ' + problem_list[1] #+ '.'\n",
    "    elif problem_list_len > 2:\n",
    "        j = 0\n",
    "        for i in problem_list:\n",
    "            if j < problem_list_len - 1:\n",
    "                problem_str += problem_list[j] + ', '\n",
    "                j+=1\n",
    "            elif j == problem_list_len - 1:\n",
    "                problem_str += 'and ' + problem_list[j] #+'.'\n",
    "    final_str += problem_str\n",
    "    \n",
    "################################################################################################   \n",
    "\n",
    "    #Starting in   \n",
    "    if starting_in_thousands.value != None or starting_in_hundreds.value != None or starting_in_tens.value != None:\n",
    "        final_str = final_str + ' starting in ' + str(int(starting_in_thousands.value) + int(starting_in_hundreds.value) + int(starting_in_tens.value)) #+ '.'\n",
    "    else:\n",
    "        final_str = final_str #+ '.'\n",
    "        \n",
    "        \n",
    "################################################################################################           \n",
    "\n",
    "    #Secondary to reasons\n",
    "    secondary_to_list = []\n",
    "    \n",
    "    if secondary_to_trauma.value == True:\n",
    "        secondary_to_list.append('trauma')\n",
    "    if secondary_to_injury.value == True:\n",
    "        secondary_to_list.append('injury')\n",
    "        \n",
    "    #Secondary to text field\n",
    "    if secondary_to_text.value != '':\n",
    "        secondary_to_text_list = secondary_to_text.value.split(',')\n",
    "        secondary_to_text_list = [x.strip(' ') for x in secondary_to_text_list]\n",
    "        \n",
    "        secondary_to_list = secondary_to_list + secondary_to_text_list\n",
    "        \n",
    "    #Build Secondary To string\n",
    "    secondary_to_list_len = len(secondary_to_list)\n",
    "    \n",
    "    if secondary_to_list_len > 0:\n",
    "        secondary_to_str = ', secondary to '\n",
    "    else:\n",
    "        secondary_to_str = '.'\n",
    "\n",
    "    if secondary_to_list_len == 1:\n",
    "        secondary_to_str += secondary_to_list[0] + '.'\n",
    "    elif secondary_to_list_len == 2:\n",
    "        secondary_to_str += secondary_to_list[0] + ' and ' + secondary_to_list[1] + '.'\n",
    "    elif secondary_to_list_len > 2:\n",
    "        j = 0\n",
    "        for i in secondary_to_list:\n",
    "            if j < secondary_to_list_len - 1:\n",
    "                secondary_to_str += secondary_to_list[j] + ', '\n",
    "                j+=1\n",
    "            elif j == secondary_to_list_len - 1:\n",
    "                secondary_to_str += 'and ' + secondary_to_list[j] +'.'\n",
    "    final_str += secondary_to_str\n",
    "    \n",
    "################################################################################################  \n",
    "    \n",
    "    #Symptoms\n",
    "    symptom_list = []\n",
    "    \n",
    "    if difficulty_sleeping.value == True or difficulty_sleeping_limitation.value == True:\n",
    "        symptom_list.append('difficulty sleeping')\n",
    "    if crying_spells.value == True or crying_spells_limitation.value == True:\n",
    "        symptom_list.append('crying spells')\n",
    "    if changes_to_appetite.value == True or changes_to_appetite_limitation.value == True:\n",
    "        symptom_list.append('changes to appetite')\n",
    "    if fatigue.value == True or fatigue_limitation.value == True:\n",
    "        symptom_list.append('fatigue')\n",
    "    if mood_swings.value == True or mood_swings_limitation.value == True:\n",
    "        symptom_list.append('mood swings')\n",
    "    if lack_of_motivation.value == True or lack_of_motivation_limitation.value == True:\n",
    "        symptom_list.append('lack of motivation')\n",
    "    if difficulty_concentrating.value == True or difficulty_concentrating_limitation.value == True:\n",
    "        symptom_list.append('difficulty concentrating')\n",
    "    if social_anxiety.value == True or social_anxiety_limitation.value == True:\n",
    "        symptom_list.append('social anxiety')\n",
    "    if hallucinations.value == True or hallucinations_limitation.value == True:\n",
    "        symptom_list.append('hallucinations')\n",
    "    if panic_attacks.value == True or panic_attacks_limitation.value == True:\n",
    "        symptom_list.append('panic attacks')\n",
    "        \n",
    "    #Symptoms text field\n",
    "    if symptoms_text.value != '':\n",
    "        symptoms_text_list = symptoms_text.value.split(',')\n",
    "        symptoms_text_list = [x.strip(' ') for x in symptoms_text_list]\n",
    "        \n",
    "        symptom_list = symptom_list + symptoms_text_list\n",
    "        \n",
    "    \n",
    "    #Limitations text field, add to symptoms as well\n",
    "    if limitations_text.value != '':\n",
    "        limitations_text_list = limitations_text.value.split(',')\n",
    "        limitations_text_list = [x.strip(' ') for x in limitations_text_list]\n",
    "        \n",
    "        symptom_list = symptom_list + limitations_text_list\n",
    "        \n",
    "    #Build Symptoms string\n",
    "    symptom_list_len = len(symptom_list)\n",
    "    \n",
    "    if symptom_list_len > 0:\n",
    "        symptom_str = ' ' + str(gender2upper) + ' current symptoms include '\n",
    "    else:\n",
    "        symptom_str = ''\n",
    "\n",
    "    if symptom_list_len == 1:\n",
    "        symptom_str += symptom_list[0] + '.'\n",
    "    elif symptom_list_len == 2:\n",
    "        symptom_str += symptom_list[0] + ' and ' + symptom_list[1] + '.'\n",
    "    elif symptom_list_len > 2:\n",
    "        j = 0\n",
    "        for i in symptom_list:\n",
    "            if j < symptom_list_len - 1:\n",
    "                symptom_str += symptom_list[j] + ', '\n",
    "                j+=1\n",
    "            elif j == symptom_list_len - 1:\n",
    "                symptom_str += 'and ' + symptom_list[j] +'.'\n",
    "    final_str += symptom_str\n",
    "    \n",
    "################################################################################################  \n",
    "   \n",
    "    #Suicidal Thoughts\n",
    "    suicidal_manic_str = ''\n",
    "    if suicidal_thoughts.value=='Yes':\n",
    "        if suicidal_thoughts_acted.value=='Yes':\n",
    "            suicidal_manic_str += ' ' + str(gender1upper) + ' reports having suicidal thoughts and acting on them'\n",
    "            pass\n",
    "        else:\n",
    "            suicidal_manic_str += ' ' + str(gender1upper) + ' reports having suicidal thoughts'\n",
    "    elif suicidal_thoughts.value=='No' or suicidal_thoughts.value==None:\n",
    "        suicidal_manic_str+=' ' + str(gender1upper) + ' denies having suicidal thoughts'\n",
    "\n",
    "    #Manic Episodes\n",
    "    if manic_episodes.value == 'Yes':\n",
    "        manic_episodes_string = ''\n",
    "        if manic_episodes_freq.value != None:\n",
    "            manic_episodes_string += str(manic_episodes_freq.value) + ' '\n",
    "        elif manic_episodes_freq_text.value != '':\n",
    "            manic_episodes_string += str(manic_episodes_freq_text.value) + ' '\n",
    "        manic_episodes_string += 'manic episodes'\n",
    "\n",
    "        suicidal_manic_str+= ' and reports experiencing ' + manic_episodes_string + '.'\n",
    "\n",
    "    elif manic_episodes.value =='No' or manic_episodes.value ==None:\n",
    "        suicidal_manic_str+= ' and denies experiencing manic episodes.'\n",
    "\n",
    "    final_str += suicidal_manic_str\n",
    "\n",
    "\n",
    "################################################################################################  \n",
    "\n",
    "    #Medication\n",
    "    medication_counseling_str = ''\n",
    "    if medication.value=='Yes':\n",
    "        medication_counseling_str += ' ' + str(gender1upper) + ' reports taking medication for this problem'\n",
    "    \n",
    "    elif medication.value=='No' or medication.value==None:\n",
    "        medication_counseling_str+=' ' + str(gender1upper) + ' denies taking medication for this problem'\n",
    "\n",
    "    #Psychiatric Counseling\n",
    "    if psychiatric_counseling.value == 'Yes':\n",
    "        if psychiatric_counseling_currently.value == 'Yes':\n",
    "            medication_counseling_str+= ' and reports currently receiving psychiatric counseling.'\n",
    "        elif psychiatric_counseling_currently.value == 'No':\n",
    "            medication_counseling_str+= ' and reports receiving psychiatric counseling in the past.'\n",
    "        else:\n",
    "            medication_counseling_str+= ' and reports receiving psychiatric counseling.'\n",
    "\n",
    "    elif psychiatric_counseling.value =='No' or psychiatric_counseling.value ==None:\n",
    "        medication_counseling_str+= ' and denies receiving psychiatric counseling.'\n",
    "\n",
    "    final_str += medication_counseling_str\n",
    "\n",
    "################################################################################################\n",
    "\n",
    "\n",
    "    #Limitations\n",
    "    limitations_list = []\n",
    "    if difficulty_sleeping_limitation.value == True:\n",
    "        limitations_list.append('difficulty sleeping')\n",
    "    if crying_spells_limitation.value == True:\n",
    "        limitations_list.append('crying spells')\n",
    "    if changes_to_appetite_limitation.value == True:\n",
    "        limitations_list.append('changes to appetite')\n",
    "    if fatigue_limitation.value == True:\n",
    "        limitations_list.append('fatigue')\n",
    "    if mood_swings_limitation.value == True:\n",
    "        limitations_list.append('mood swings')\n",
    "    if lack_of_motivation_limitation.value == True:\n",
    "        limitations_list.append('lack of motivation')\n",
    "    if difficulty_concentrating_limitation.value == True:\n",
    "        limitations_list.append('difficulty concentrating')\n",
    "    if social_anxiety_limitation.value == True:\n",
    "        limitations_list.append('social anxiety')\n",
    "    if hallucinations_limitation.value == True:\n",
    "        limitations_list.append('hallucinations')\n",
    "    if panic_attacks_limitation.value == True:\n",
    "        limitations_list.append('panic attacks')\n",
    "        \n",
    "\n",
    "    #Limitations text field\n",
    "    if limitations_text.value != '':\n",
    "        limitations_text_list = limitations_text.value.split(',')\n",
    "        limitations_text_list = [x.strip(' ') for x in limitations_text_list]\n",
    "        \n",
    "        limitations_list = limitations_list + limitations_text_list\n",
    "        \n",
    "        \n",
    "    #Build limitation string\n",
    "    limitations_str = ''\n",
    "    final_str = final_str + ' The claimant reports this affects ' + str(gender2lower) + ' ability to work secondary to '\n",
    "    limitations_list_len = len(limitations_list)\n",
    "    \n",
    "    if limitations_list_len == 1:\n",
    "        limitations_str += limitations_list[0] + '.'\n",
    "    elif limitations_list_len == 2:\n",
    "        limitations_str += limitations_list[0] + ' and ' + limitations_list[1] + '.'\n",
    "    elif limitations_list_len > 2:\n",
    "        j = 0\n",
    "        for i in limitations_list:\n",
    "            if j < limitations_list_len - 1:\n",
    "                limitations_str += limitations_list[j] + ', '\n",
    "                j+=1\n",
    "            elif j == limitations_list_len - 1:\n",
    "                limitations_str += 'and ' + limitations_list[j] +'.'\n",
    "    final_str += limitations_str\n",
    "    \n",
    "################################################################################################   \n",
    "\n",
    "    \n",
    "    print(final_str)"
   ]
  },
  {
   "cell_type": "code",
   "execution_count": 62,
   "metadata": {
    "scrolled": false
   },
   "outputs": [
    {
     "name": "stdout",
     "output_type": "stream",
     "text": [
      "\n",
      "\n"
     ]
    },
    {
     "data": {
      "application/vnd.jupyter.widget-view+json": {
       "model_id": "173c88f3568e420aa9ec5908dc92fa33",
       "version_major": 2,
       "version_minor": 0
      },
      "text/plain": [
       "ToggleButtons(description='Gender:', layout=Layout(align_items='center', width='auto'), options=('Male', 'Fema…"
      ]
     },
     "metadata": {},
     "output_type": "display_data"
    },
    {
     "name": "stdout",
     "output_type": "stream",
     "text": [
      "Problem:\n"
     ]
    },
    {
     "data": {
      "application/vnd.jupyter.widget-view+json": {
       "model_id": "1c377c281d5f4c8ea3b7c35e73c30fd1",
       "version_major": 2,
       "version_minor": 0
      },
      "text/plain": [
       "HBox(children=(ToggleButton(value=False, description='Mental/Psychiatric Issues', icon='table', layout=Layout(…"
      ]
     },
     "metadata": {},
     "output_type": "display_data"
    },
    {
     "data": {
      "application/vnd.jupyter.widget-view+json": {
       "model_id": "f5eca08f7bb540649f7cd10a7d2d0296",
       "version_major": 2,
       "version_minor": 0
      },
      "text/plain": [
       "Text(value='', description='Other (Comma separate):', layout=Layout(width='40%'), placeholder='Problem', style…"
      ]
     },
     "metadata": {},
     "output_type": "display_data"
    },
    {
     "name": "stdout",
     "output_type": "stream",
     "text": [
      "\n",
      "\n"
     ]
    },
    {
     "data": {
      "application/vnd.jupyter.widget-view+json": {
       "model_id": "5a29998e2b724ba48a6849acefe3dea2",
       "version_major": 2,
       "version_minor": 0
      },
      "text/plain": [
       "ToggleButtons(description='Starting In:', layout=Layout(align_items='center', width='65%'), options=('1900', '…"
      ]
     },
     "metadata": {},
     "output_type": "display_data"
    },
    {
     "data": {
      "application/vnd.jupyter.widget-view+json": {
       "model_id": "21b505612a584badaee5734b22eb1f42",
       "version_major": 2,
       "version_minor": 0
      },
      "text/plain": [
       "ToggleButtons(layout=Layout(align_items='center', width='auto'), options=('0', '10', '20', '30', '40', '50', '…"
      ]
     },
     "metadata": {},
     "output_type": "display_data"
    },
    {
     "data": {
      "application/vnd.jupyter.widget-view+json": {
       "model_id": "98339a1aa60a4c7795b3e6beaa72d00a",
       "version_major": 2,
       "version_minor": 0
      },
      "text/plain": [
       "ToggleButtons(layout=Layout(align_items='center', width='auto'), options=('0', '1', '2', '3', '4', '5', '6', '…"
      ]
     },
     "metadata": {},
     "output_type": "display_data"
    },
    {
     "name": "stdout",
     "output_type": "stream",
     "text": [
      "\n",
      "\n",
      "What caused it?\n"
     ]
    },
    {
     "data": {
      "application/vnd.jupyter.widget-view+json": {
       "model_id": "e429ed123e7b46d3af4fda43dbf95d1e",
       "version_major": 2,
       "version_minor": 0
      },
      "text/plain": [
       "HBox(children=(ToggleButton(value=False, description='Trauma', icon='table', layout=Layout(height='40px', widt…"
      ]
     },
     "metadata": {},
     "output_type": "display_data"
    },
    {
     "data": {
      "application/vnd.jupyter.widget-view+json": {
       "model_id": "fe48f81243c649f6b90475e25bc5a472",
       "version_major": 2,
       "version_minor": 0
      },
      "text/plain": [
       "Text(value='', description='Other (Brief Description):', layout=Layout(width='40%'), placeholder='Reason', sty…"
      ]
     },
     "metadata": {},
     "output_type": "display_data"
    },
    {
     "name": "stdout",
     "output_type": "stream",
     "text": [
      "\n",
      "\n",
      "Symptoms:\n"
     ]
    },
    {
     "data": {
      "application/vnd.jupyter.widget-view+json": {
       "model_id": "81552bdb62bc407196e293326952a4da",
       "version_major": 2,
       "version_minor": 0
      },
      "text/plain": [
       "HBox(children=(ToggleButton(value=False, description='Difficulty Sleeping', icon='table', layout=Layout(height…"
      ]
     },
     "metadata": {},
     "output_type": "display_data"
    },
    {
     "data": {
      "application/vnd.jupyter.widget-view+json": {
       "model_id": "8a90ca8e2a31487ba4d3973db4fbd1db",
       "version_major": 2,
       "version_minor": 0
      },
      "text/plain": [
       "HBox(children=(ToggleButton(value=False, description='Mood Swings', icon='table', layout=Layout(height='40px',…"
      ]
     },
     "metadata": {},
     "output_type": "display_data"
    },
    {
     "data": {
      "application/vnd.jupyter.widget-view+json": {
       "model_id": "b17e6545c2d8417895bb8b8838874f3c",
       "version_major": 2,
       "version_minor": 0
      },
      "text/plain": [
       "HBox(children=(ToggleButton(value=False, description='Hallucinations', icon='table', layout=Layout(height='40p…"
      ]
     },
     "metadata": {},
     "output_type": "display_data"
    },
    {
     "data": {
      "application/vnd.jupyter.widget-view+json": {
       "model_id": "97e9755756eb490087ef18631faa4461",
       "version_major": 2,
       "version_minor": 0
      },
      "text/plain": [
       "Text(value='', description='Other (Comma separate):', layout=Layout(width='40%'), placeholder='Symptoms', styl…"
      ]
     },
     "metadata": {},
     "output_type": "display_data"
    },
    {
     "name": "stdout",
     "output_type": "stream",
     "text": [
      "\n",
      "\n"
     ]
    },
    {
     "data": {
      "application/vnd.jupyter.widget-view+json": {
       "model_id": "60d1ce033e94474fb0b11e0a0f1bf7f4",
       "version_major": 2,
       "version_minor": 0
      },
      "text/plain": [
       "ToggleButtons(description='Suicidal Thoughts:', layout=Layout(align_items='center', width='auto'), options=('Y…"
      ]
     },
     "metadata": {},
     "output_type": "display_data"
    },
    {
     "data": {
      "application/vnd.jupyter.widget-view+json": {
       "model_id": "feff9adea1ae4ac3add070f73394ce75",
       "version_major": 2,
       "version_minor": 0
      },
      "text/plain": [
       "ToggleButtons(description='Acted Upon Them:', layout=Layout(align_items='center', width='auto'), options=('Yes…"
      ]
     },
     "metadata": {},
     "output_type": "display_data"
    },
    {
     "name": "stdout",
     "output_type": "stream",
     "text": [
      "\n",
      "\n"
     ]
    },
    {
     "data": {
      "application/vnd.jupyter.widget-view+json": {
       "model_id": "30ad08fcf30f4fada30288db0b595b8d",
       "version_major": 2,
       "version_minor": 0
      },
      "text/plain": [
       "ToggleButtons(description='Manic Episodes:', layout=Layout(align_items='center', width='auto'), options=('Yes'…"
      ]
     },
     "metadata": {},
     "output_type": "display_data"
    },
    {
     "data": {
      "application/vnd.jupyter.widget-view+json": {
       "model_id": "7435921277c14f73b4f2596c29690e7d",
       "version_major": 2,
       "version_minor": 0
      },
      "text/plain": [
       "ToggleButtons(description='Frequency:', layout=Layout(align_items='center', width='auto'), options=('daily', '…"
      ]
     },
     "metadata": {},
     "output_type": "display_data"
    },
    {
     "data": {
      "application/vnd.jupyter.widget-view+json": {
       "model_id": "3df4588ae62b4148a49bda22e5142865",
       "version_major": 2,
       "version_minor": 0
      },
      "text/plain": [
       "Text(value='', description='Other:', layout=Layout(width='40%'), placeholder='Freq')"
      ]
     },
     "metadata": {},
     "output_type": "display_data"
    },
    {
     "name": "stdout",
     "output_type": "stream",
     "text": [
      "\n",
      "\n"
     ]
    },
    {
     "data": {
      "application/vnd.jupyter.widget-view+json": {
       "model_id": "c69641d26ce04f5b9135488535a3ff9f",
       "version_major": 2,
       "version_minor": 0
      },
      "text/plain": [
       "ToggleButtons(description='Medication:', layout=Layout(align_items='center', width='auto'), options=('Yes', 'N…"
      ]
     },
     "metadata": {},
     "output_type": "display_data"
    },
    {
     "name": "stdout",
     "output_type": "stream",
     "text": [
      "\n",
      "\n"
     ]
    },
    {
     "data": {
      "application/vnd.jupyter.widget-view+json": {
       "model_id": "a9e74c97e99d477caef7b5004ec80085",
       "version_major": 2,
       "version_minor": 0
      },
      "text/plain": [
       "ToggleButtons(description='Psychiatric Counseling:', layout=Layout(align_items='center', width='auto'), option…"
      ]
     },
     "metadata": {},
     "output_type": "display_data"
    },
    {
     "data": {
      "application/vnd.jupyter.widget-view+json": {
       "model_id": "00d81dfa16d147f5a19cdcc0a33c8736",
       "version_major": 2,
       "version_minor": 0
      },
      "text/plain": [
       "ToggleButtons(description='Currently:', layout=Layout(align_items='center', width='auto'), options=('Yes', 'No…"
      ]
     },
     "metadata": {},
     "output_type": "display_data"
    },
    {
     "name": "stdout",
     "output_type": "stream",
     "text": [
      "\n",
      "\n",
      "How does this affect your daily ability to work?\n"
     ]
    },
    {
     "data": {
      "application/vnd.jupyter.widget-view+json": {
       "model_id": "8c947e81974d4384b34b64036c294b28",
       "version_major": 2,
       "version_minor": 0
      },
      "text/plain": [
       "HBox(children=(ToggleButton(value=False, description='Difficulty Sleeping', icon='table', layout=Layout(height…"
      ]
     },
     "metadata": {},
     "output_type": "display_data"
    },
    {
     "data": {
      "application/vnd.jupyter.widget-view+json": {
       "model_id": "97dfd3302b3145d3aa39ae6ae0f29492",
       "version_major": 2,
       "version_minor": 0
      },
      "text/plain": [
       "HBox(children=(ToggleButton(value=False, description='Mood Swings', icon='table', layout=Layout(height='40px',…"
      ]
     },
     "metadata": {},
     "output_type": "display_data"
    },
    {
     "data": {
      "application/vnd.jupyter.widget-view+json": {
       "model_id": "306abadce15a4e9bb2742ab47e18e916",
       "version_major": 2,
       "version_minor": 0
      },
      "text/plain": [
       "HBox(children=(ToggleButton(value=False, description='Hallucinations', icon='table', layout=Layout(height='40p…"
      ]
     },
     "metadata": {},
     "output_type": "display_data"
    },
    {
     "data": {
      "application/vnd.jupyter.widget-view+json": {
       "model_id": "05933d3582c8484787bf705d4b772385",
       "version_major": 2,
       "version_minor": 0
      },
      "text/plain": [
       "Text(value='', description='Other (Comma separate):', layout=Layout(width='40%'), placeholder='Problem', style…"
      ]
     },
     "metadata": {},
     "output_type": "display_data"
    },
    {
     "name": "stdout",
     "output_type": "stream",
     "text": [
      "\n",
      "\n"
     ]
    },
    {
     "data": {
      "application/vnd.jupyter.widget-view+json": {
       "model_id": "7ee9eacb6e294212869658b4801b76d4",
       "version_major": 2,
       "version_minor": 0
      },
      "text/plain": [
       "Button(description='Submit', icon='check', layout=Layout(height='60px', width='580px'), style=ButtonStyle())"
      ]
     },
     "metadata": {},
     "output_type": "display_data"
    },
    {
     "data": {
      "application/vnd.jupyter.widget-view+json": {
       "model_id": "9bed45827b8e4a3c8da6f8e04ed0f707",
       "version_major": 2,
       "version_minor": 0
      },
      "text/plain": [
       "Output()"
      ]
     },
     "metadata": {},
     "output_type": "display_data"
    },
    {
     "name": "stdout",
     "output_type": "stream",
     "text": [
      "The claimant reports a history of depression starting in 2019. Her current symptoms include difficulty sleeping, crying spells, fatigue, mood swings, lack of motivation, difficulty concentrating, social anxiety, and panic attacks. She denies having suicidal thoughts and denies experiencing manic episodes. She reports taking medication for this problem and denies receiving psychiatric counseling. The claimant reports this affects her ability to work secondary to fatigue and lack of motivation.\n",
      "The claimant reports a history of depression starting in 2019. Her current symptoms include difficulty sleeping, crying spells, fatigue, mood swings, lack of motivation, difficulty concentrating, social anxiety, panic attacks, poopy, and poopy. She denies having suicidal thoughts and denies experiencing manic episodes. She reports taking medication for this problem and denies receiving psychiatric counseling. The claimant reports this affects her ability to work secondary to fatigue, lack of motivation, and poopy.\n"
     ]
    }
   ],
   "source": [
    "run_button.on_click(finish)\n",
    "print('\\n')\n",
    "display(gender)\n",
    "box_layout = widgets.Layout(display='flex',\n",
    "                           flex_flow='row',\n",
    "                           align_items='center',\n",
    "                           width='100%') \n",
    "box_layout2 = widgets.Layout(display='flex',\n",
    "                           flex_flow='row',\n",
    "                           align_items='center',\n",
    "                           width='50%') \n",
    "print('Problem:')\n",
    "display(widgets.HBox((mental_psychiatric_issues,depression,anxiety,bipolar,ptsd),layout=box_layout))\n",
    "display(problem_text)\n",
    "print('\\n')\n",
    "display(starting_in_thousands)\n",
    "display(starting_in_hundreds)\n",
    "display(starting_in_tens)\n",
    "print('\\n')\n",
    "print('What caused it?')\n",
    "display(widgets.HBox((secondary_to_trauma,secondary_to_injury),layout=box_layout))\n",
    "display(secondary_to_text)\n",
    "print('\\n')\n",
    "print('Symptoms:')\n",
    "display(widgets.HBox((difficulty_sleeping,crying_spells,changes_to_appetite,fatigue),layout=box_layout))\n",
    "display(widgets.HBox((mood_swings,lack_of_motivation,difficulty_concentrating,social_anxiety),layout=box_layout))\n",
    "display(widgets.HBox((hallucinations,panic_attacks),layout=box_layout2))\n",
    "display(symptoms_text)\n",
    "print('\\n')\n",
    "display(suicidal_thoughts)\n",
    "display(suicidal_thoughts_acted)\n",
    "print('\\n')\n",
    "display(manic_episodes)\n",
    "display(manic_episodes_freq)\n",
    "display(manic_episodes_freq_text)\n",
    "print('\\n')\n",
    "display(medication)\n",
    "print('\\n')\n",
    "display(psychiatric_counseling)\n",
    "display(psychiatric_counseling_currently)\n",
    "print('\\n')\n",
    "print('How does this affect your daily ability to work?')\n",
    "display(widgets.HBox((difficulty_sleeping_limitation,crying_spells_limitation,changes_to_appetite_limitation,fatigue_limitation),layout=box_layout))\n",
    "display(widgets.HBox((mood_swings_limitation,lack_of_motivation_limitation,difficulty_concentrating_limitation,social_anxiety_limitation),layout=box_layout))\n",
    "display(widgets.HBox((hallucinations_limitation,panic_attacks_limitation),layout=box_layout2))\n",
    "display(limitations_text)\n",
    "print('\\n')\n",
    "\n",
    "display(run_button)\n",
    "output"
   ]
  }
 ],
 "metadata": {
  "kernelspec": {
   "display_name": "Python 3",
   "language": "python",
   "name": "python3"
  },
  "language_info": {
   "codemirror_mode": {
    "name": "ipython",
    "version": 3
   },
   "file_extension": ".py",
   "mimetype": "text/x-python",
   "name": "python",
   "nbconvert_exporter": "python",
   "pygments_lexer": "ipython3",
   "version": "3.7.1"
  }
 },
 "nbformat": 4,
 "nbformat_minor": 2
}
